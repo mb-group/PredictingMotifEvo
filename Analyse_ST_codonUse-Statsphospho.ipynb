{
 "cells": [
  {
   "cell_type": "markdown",
   "metadata": {
    "deletable": true,
    "editable": true
   },
   "source": [
    "All HA and NA data analysed uses files filtered to only contain strains with the full motif. The dataframes with S/T data\n",
    "therefore can contain 100 entries for some sites and 4000 for some sites, howevere when plotting relative circles it is only relative to usage at each site so those circles may appear similar in size when from different sites. Either be very clear about this or change it in future."
   ]
  },
  {
   "cell_type": "code",
   "execution_count": 4,
   "metadata": {
    "collapsed": false,
    "deletable": true,
    "editable": true
   },
   "outputs": [],
   "source": [
    "#import relevant libraries\n",
    "import numpy as np\n",
    "import matplotlib.pyplot as plt\n",
    "import pandas as pd\n",
    "import CommonMotifProb as MP\n",
    "import matplotlib\n",
    "from scipy.stats import chi2_contingency\n",
    "matplotlib.rcParams['pdf.fonttype'] = 42\n",
    "matplotlib.rcParams['ps.fonttype'] = 42\n",
    "import random"
   ]
  },
  {
   "cell_type": "code",
   "execution_count": 7,
   "metadata": {
    "collapsed": false,
    "deletable": true,
    "editable": true
   },
   "outputs": [],
   "source": [
    "#define files\n",
    "path='Residue_Dataframes/'\n",
    "#inputfiles=['H3_fixed_residue_Dataframe_non-motif-positions_allResidues.csv']\n",
    "#inputfiles=['NP_fixed_residue_Dataframe_motif-positions_allResidues.csv']\n",
    "#inputfiles=['NP_fixed_residue_Dataframe_non-motif-positions_allResidues.csv']\n",
    "#inputfiles=['NS2_residues_Dataframe_motif-positions_allResidues.csv','M2_residues_Dataframe_motif-positions_allResidues.csv','PA_fixed_residue_Dataframe_motif-positions_allResidues.csv']#['NP_fixed_residue_Dataframe_motif-positions_allResidues.csv']\n",
    "inputfiles=['NP_fixed_residue_Dataframe_motif-positions_allResidues.csv', 'M12_fixed_residue_Dataframe_motif-positions_allResidues.csv','NS12_residue_Dataframe_motif-positions_allResidues.csv','NS2_residues_Dataframe_motif-positions_allResidues.csv','M2_residues_Dataframe_motif-positions_allResidues.csv','PA_fixed_residue_Dataframe_motif-positions_allResidues.csv']\n",
    "#inputfiles=['NP_fixed_residue_Dataframe_motif-positions_allResidues.csv', 'M12_fixed_residue_Dataframe_motif-positions_allResidues.csv','NS12_residue_Dataframe_motif-positions_allResidues.csv']#'A','B','C']\n",
    "nonmotiffiles=['NP_fixed_residue_Dataframe_non-motif-positions_S_T.csv','M12_fixed_residue_Dataframe_non-motif-positions_S_T.csv','NS12_residue_Dataframe_non-motif-positions_S_T.csv']"
   ]
  },
  {
   "cell_type": "code",
   "execution_count": 8,
   "metadata": {
    "collapsed": false,
    "deletable": true,
    "editable": true
   },
   "outputs": [],
   "source": [
    "#read in selected motifs file\n",
    "#also read in motifs to compare with from full motifs file?\n",
    "path='Residue_Dataframes/'\n",
    "keyresiduedata=[pd.read_csv(path+i,index_col=0) for i in inputfiles]\n",
    "keyresiduedataconcat=pd.concat(keyresiduedata)\n",
    "\n",
    "nonmotifdata=[pd.read_csv(path+i,index_col=0) for i in nonmotiffiles]\n",
    "nonmotifdata=pd.concat(nonmotifdata)\n",
    "\n",
    "AAs=['S','T']\n",
    "\n",
    "\n",
    "relevantcodons=[j.replace('U','T') for i in AAs for j in MP.AAtoCodonDICT[MP.SingleLetterDICT[i]]]\n"
   ]
  },
  {
   "cell_type": "code",
   "execution_count": 9,
   "metadata": {
    "collapsed": false,
    "deletable": true,
    "editable": true
   },
   "outputs": [],
   "source": [
    "keyresiduedata=keyresiduedataconcat[keyresiduedataconcat['AminoAcid'].isin(AAs)]"
   ]
  },
  {
   "cell_type": "code",
   "execution_count": 10,
   "metadata": {
    "collapsed": false,
    "deletable": true,
    "editable": true
   },
   "outputs": [],
   "source": [
    "columns = ['Site','Codon','Phospho']\n",
    "nondatas=[]\n",
    "sites=nonmotifdata.ResidueNo.unique()\n",
    "for i in sites:\n",
    "    temp=nonmotifdata[nonmotifdata['ResidueNo']==i]\n",
    "    sitecodons=temp.Codon.value_counts()\n",
    "    for j in sitecodons.keys():\n",
    "        if sitecodons[j]>500:\n",
    "            \n",
    "            nondatas.append([i,j,0])"
   ]
  },
  {
   "cell_type": "code",
   "execution_count": 11,
   "metadata": {
    "collapsed": false,
    "deletable": true,
    "editable": true
   },
   "outputs": [],
   "source": [
    "columns = ['Site','Codon','Phospho']\n",
    "datas=[]\n",
    "sites=keyresiduedata.ResidueNo.unique()\n",
    "for i in sites:\n",
    "    temp=keyresiduedata[keyresiduedata['ResidueNo']==i]\n",
    "    sitecodons=temp.Codon.value_counts()\n",
    "    for j in sitecodons.keys():\n",
    "        if sitecodons[j]>500:\n",
    "            datas.append([i,j,1])"
   ]
  },
  {
   "cell_type": "code",
   "execution_count": 16,
   "metadata": {
    "collapsed": true,
    "deletable": true,
    "editable": true
   },
   "outputs": [],
   "source": [
    "#determining table assuming full or partial dependence\n",
    "columns = ['Site','Codon','Phospho']\n",
    "nondatas=[]\n",
    "sites=nonmotifdata.ResidueNo.unique()\n",
    "for i in sites:\n",
    "    temp=nonmotifdata[nonmotifdata['ResidueNo']==i]\n",
    "    sitecodons=temp.Codon.value_counts()\n",
    "    for j in sitecodons.keys():\n",
    "        if sitecodons[j]>1000:\n",
    "            loopcount=sitecodons[j]/1000\n",
    "            for l in range(int(loopcount)):\n",
    "                nondatas.append([i,j,0])\n",
    "            \n",
    "            \n",
    "columns = ['Site','Codon','Phospho']\n",
    "datas=[]\n",
    "sites=keyresiduedata.ResidueNo.unique()\n",
    "for i in sites:\n",
    "    temp=keyresiduedata[keyresiduedata['ResidueNo']==i]\n",
    "    sitecodons=temp.Codon.value_counts()\n",
    "    for j in sitecodons.keys():\n",
    "        if sitecodons[j]>1000:\n",
    "            loopcount=sitecodons[j]/1000\n",
    "            for l in range(int(loopcount)):\n",
    "                datas.append([i,j,1])"
   ]
  },
  {
   "cell_type": "code",
   "execution_count": 17,
   "metadata": {
    "collapsed": false,
    "deletable": true,
    "editable": true
   },
   "outputs": [],
   "source": [
    "\n",
    "data=pd.DataFrame(datas,columns=columns)\n",
    "nondata=pd.DataFrame(nondatas,columns=columns)\n",
    "\n",
    "newdata=pd.concat([data,nondata])"
   ]
  },
  {
   "cell_type": "code",
   "execution_count": 18,
   "metadata": {
    "collapsed": false,
    "deletable": true,
    "editable": true
   },
   "outputs": [
    {
     "data": {
      "text/html": [
       "<div>\n",
       "<style scoped>\n",
       "    .dataframe tbody tr th:only-of-type {\n",
       "        vertical-align: middle;\n",
       "    }\n",
       "\n",
       "    .dataframe tbody tr th {\n",
       "        vertical-align: top;\n",
       "    }\n",
       "\n",
       "    .dataframe thead th {\n",
       "        text-align: right;\n",
       "    }\n",
       "</style>\n",
       "<table border=\"1\" class=\"dataframe\">\n",
       "  <thead>\n",
       "    <tr style=\"text-align: right;\">\n",
       "      <th></th>\n",
       "      <th>Site</th>\n",
       "      <th>Codon</th>\n",
       "      <th>Phospho</th>\n",
       "    </tr>\n",
       "  </thead>\n",
       "  <tbody>\n",
       "    <tr>\n",
       "      <th>0</th>\n",
       "      <td>6</td>\n",
       "      <td>ACC</td>\n",
       "      <td>1</td>\n",
       "    </tr>\n",
       "    <tr>\n",
       "      <th>1</th>\n",
       "      <td>6</td>\n",
       "      <td>ACC</td>\n",
       "      <td>1</td>\n",
       "    </tr>\n",
       "    <tr>\n",
       "      <th>2</th>\n",
       "      <td>6</td>\n",
       "      <td>ACC</td>\n",
       "      <td>1</td>\n",
       "    </tr>\n",
       "    <tr>\n",
       "      <th>3</th>\n",
       "      <td>6</td>\n",
       "      <td>ACC</td>\n",
       "      <td>1</td>\n",
       "    </tr>\n",
       "    <tr>\n",
       "      <th>4</th>\n",
       "      <td>6</td>\n",
       "      <td>ACC</td>\n",
       "      <td>1</td>\n",
       "    </tr>\n",
       "    <tr>\n",
       "      <th>...</th>\n",
       "      <td>...</td>\n",
       "      <td>...</td>\n",
       "      <td>...</td>\n",
       "    </tr>\n",
       "    <tr>\n",
       "      <th>887</th>\n",
       "      <td>127</td>\n",
       "      <td>ACC</td>\n",
       "      <td>0</td>\n",
       "    </tr>\n",
       "    <tr>\n",
       "      <th>888</th>\n",
       "      <td>213</td>\n",
       "      <td>TCA</td>\n",
       "      <td>0</td>\n",
       "    </tr>\n",
       "    <tr>\n",
       "      <th>889</th>\n",
       "      <td>213</td>\n",
       "      <td>TCA</td>\n",
       "      <td>0</td>\n",
       "    </tr>\n",
       "    <tr>\n",
       "      <th>890</th>\n",
       "      <td>74</td>\n",
       "      <td>AGC</td>\n",
       "      <td>0</td>\n",
       "    </tr>\n",
       "    <tr>\n",
       "      <th>891</th>\n",
       "      <td>86</td>\n",
       "      <td>ACT</td>\n",
       "      <td>0</td>\n",
       "    </tr>\n",
       "  </tbody>\n",
       "</table>\n",
       "<p>1134 rows × 3 columns</p>\n",
       "</div>"
      ],
      "text/plain": [
       "     Site Codon  Phospho\n",
       "0       6   ACC        1\n",
       "1       6   ACC        1\n",
       "2       6   ACC        1\n",
       "3       6   ACC        1\n",
       "4       6   ACC        1\n",
       "..    ...   ...      ...\n",
       "887   127   ACC        0\n",
       "888   213   TCA        0\n",
       "889   213   TCA        0\n",
       "890    74   AGC        0\n",
       "891    86   ACT        0\n",
       "\n",
       "[1134 rows x 3 columns]"
      ]
     },
     "execution_count": 18,
     "metadata": {},
     "output_type": "execute_result"
    }
   ],
   "source": [
    "newdata"
   ]
  },
  {
   "cell_type": "code",
   "execution_count": 29,
   "metadata": {
    "collapsed": false,
    "deletable": true,
    "editable": true,
    "scrolled": true
   },
   "outputs": [
    {
     "name": "stderr",
     "output_type": "stream",
     "text": [
      "/var/folders/dt/9s3cdx090n1_ppdzkzk88tx40000gp/T/ipykernel_10290/3640571219.py:2: SettingWithCopyWarning: \n",
      "A value is trying to be set on a copy of a slice from a DataFrame.\n",
      "Try using .loc[row_indexer,col_indexer] = value instead\n",
      "\n",
      "See the caveats in the documentation: https://pandas.pydata.org/pandas-docs/stable/user_guide/indexing.html#returning-a-view-versus-a-copy\n",
      "  NPPhospho['Phospho']=1\n"
     ]
    }
   ],
   "source": [
    "NPPhospho=keyresiduedata\n",
    "NPPhospho['Phospho']=1\n",
    "NPNonPho=nonmotifdata\n",
    "NPNonPho['Phospho']=0\n",
    "\n",
    "PhosphoConcat=pd.concat([NPPhospho,NPNonPho])"
   ]
  },
  {
   "cell_type": "code",
   "execution_count": 21,
   "metadata": {
    "collapsed": false,
    "deletable": true,
    "editable": true
   },
   "outputs": [],
   "source": [
    "data=PhosphoConcat"
   ]
  },
  {
   "cell_type": "code",
   "execution_count": 23,
   "metadata": {
    "collapsed": false,
    "deletable": true,
    "editable": true
   },
   "outputs": [
    {
     "name": "stdout",
     "output_type": "stream",
     "text": [
      "Phospho    0   1\n",
      "Codon           \n",
      "ACA      124  28\n",
      "ACC       71  48\n",
      "ACG       21  29\n",
      "ACT      153  25\n",
      "AGC       88   7\n",
      "AGT      143   0\n",
      "TCA      109  16\n",
      "TCC       66  37\n",
      "TCG       15  11\n",
      "TCT      102  41\n"
     ]
    }
   ],
   "source": [
    "data_crosstab = pd.crosstab(newdata['Codon'], \n",
    "                            newdata['Phospho'],  \n",
    "                               margins = False) \n",
    "print(data_crosstab) "
   ]
  },
  {
   "cell_type": "code",
   "execution_count": 24,
   "metadata": {
    "collapsed": false,
    "deletable": true,
    "editable": true
   },
   "outputs": [
    {
     "name": "stdout",
     "output_type": "stream",
     "text": [
      "Phospho       0      1\n",
      "Codon                 \n",
      "ACA      148091  33601\n",
      "ACC       90999  54095\n",
      "ACG       31672  32429\n",
      "ACT      173891  28829\n",
      "AGC      107065   7218\n",
      "AGT      161325    330\n",
      "TCA      125139  18987\n",
      "TCC       77635  41692\n",
      "TCG       19723  12769\n",
      "TCT      118200  47113\n"
     ]
    }
   ],
   "source": [
    "data_crosstab = pd.crosstab(data['Codon'], \n",
    "                            data['Phospho'],  \n",
    "                               margins = False) \n",
    "print(data_crosstab) "
   ]
  },
  {
   "cell_type": "code",
   "execution_count": 26,
   "metadata": {
    "collapsed": false,
    "deletable": true,
    "editable": true
   },
   "outputs": [
    {
     "name": "stdout",
     "output_type": "stream",
     "text": [
      "Chi2ContingencyResult(statistic=152717.06651074922, pvalue=0.0, dof=9, expected_freq=array([[143865.11608405,  37826.88391595],\n",
      "       [114886.53960053,  30207.46039947],\n",
      "       [ 50755.66236325,  13345.33763675],\n",
      "       [160515.24741077,  42204.75258923],\n",
      "       [ 90490.15400476,  23792.84599524],\n",
      "       [127999.66614142,  33655.33385858],\n",
      "       [114120.06979245,  30005.93020755],\n",
      "       [ 94484.03180636,  24842.96819364],\n",
      "       [ 25727.41426041,   6764.58573959],\n",
      "       [130896.098536  ,  34416.901464  ]]))\n"
     ]
    }
   ],
   "source": [
    "a=chi2_contingency(data_crosstab)\n",
    "print (a)"
   ]
  },
  {
   "cell_type": "code",
   "execution_count": null,
   "metadata": {
    "collapsed": false,
    "deletable": true,
    "editable": true
   },
   "outputs": [],
   "source": [
    "nonmotifdata[0]\n",
    "#dp=nonmotifdata[0]\n",
    "#dp[dp['ResidueNo']==60]"
   ]
  }
 ],
 "metadata": {
  "kernelspec": {
   "display_name": "Python 3.9.6 64-bit",
   "language": "python",
   "name": "python3"
  },
  "language_info": {
   "codemirror_mode": {
    "name": "ipython",
    "version": 3
   },
   "file_extension": ".py",
   "mimetype": "text/x-python",
   "name": "python",
   "nbconvert_exporter": "python",
   "pygments_lexer": "ipython3",
   "version": "3.9.6"
  },
  "vscode": {
   "interpreter": {
    "hash": "31f2aee4e71d21fbe5cf8b01ff0e069b9275f58929596ceb00d14d90e3e16cd6"
   }
  }
 },
 "nbformat": 4,
 "nbformat_minor": 2
}
