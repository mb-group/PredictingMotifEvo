{
 "cells": [
  {
   "cell_type": "code",
   "execution_count": 1,
   "metadata": {},
   "outputs": [],
   "source": [
    "import CommonMotifProb\n",
    "import matplotlib.pyplot as plt\n",
    "import pandas as pd\n",
    "import numpy as np"
   ]
  },
  {
   "cell_type": "code",
   "execution_count": 2,
   "metadata": {},
   "outputs": [],
   "source": [
    "NTevolveprobDICT1={'A':[1-(1.8*10**-5+1.5*10**-5+2.0*10**-4), 1.8*10**-5, 1.5*10**-5, 2.0*10**-4],\n",
    "                  'U':[1.4*10**-5, 1-(2.3*10**-4+3.5*10**-5+1.4*10**-5), 2.3*10**-4, 3.5*10**-5],\n",
    "                  'C':[7.7*10**-6, 2.7*10**-5, 1-(7.7*10**-6+2.7*10**-5+5.1*10**-6), 5.1*10**-6],\n",
    "                  'G':[3.1*10**-5, 3.5*10**-5, 5.4*10**-5, 1-(3.1*10**-5+3.5*10**-5+5.4*10**-5)]}\n",
    "NTevolveprobDICT2={'A':[1-(5.6*10**-5+5.6*10**-5+5.6*10**-5), 5.6*10**-5, 5.6*10**-5, 5.6*10**-5],\n",
    "                  'U':[5.6*10**-5, 1-(5.6*10**-5+5.6*10**-5+5.6*10**-5), 5.6*10**-5, 5.6*10**-5],\n",
    "                  'C':[5.6*10**-5, 5.6*10**-5, 1-(5.6*10**-5+5.6*10**-5+5.6*10**-5), 5.6*10**-5],\n",
    "                  'G':[5.6*10**-5, 5.6*10**-5, 5.6*10**-5, 1-(5.6*10**-5+5.6*10**-5+5.6*10**-5)]}"
   ]
  },
  {
   "cell_type": "code",
   "execution_count": 7,
   "metadata": {
    "collapsed": true
   },
   "outputs": [],
   "source": [
    "NTevolveprobDICT3={'A':[1-(1.5*10**-5+3.5*10**-5+2.5*10**-4), 1.5*10**-5, 3.5*10**-5, 2.5*10**-4],\n",
    "                  'U':[1.4*10**-5, 1-(2.3*10**-4+3.5*10**-5+1.4*10**-5), 2.3*10**-4, 3.5*10**-5],\n",
    "                  'C':[7.7*10**-6, 2.7*10**-5, 1-(7.7*10**-6+2.7*10**-5+1.0*10**-5), 1.0*10**-5],\n",
    "                  'G':[3.1*10**-5, 3.5*10**-5, 5.4*10**-5, 1-(3.1*10**-5+3.5*10**-5+5.4*10**-5)]}"
   ]
  },
  {
   "cell_type": "code",
   "execution_count": 8,
   "metadata": {
    "collapsed": true
   },
   "outputs": [],
   "source": [
    "ALTNTevolveprobDICT={'A':[1-(1.3*10**-5+3.4*10**-5+3.0*10**-4), 1.3*10**-5, 3.4*10**-5, 3.0*10**-4],\n",
    "                  'U':[4.5*10**-6, 1-(4.5*10**-6+3.1*10**-4+3.6*10**-5), 3.1*10**-4, 3.6*10**-5],\n",
    "                  'C':[1.7*10**-5, 4.6*10**-5, 1-(1.7*10**-5+4.6*10**-5+9.7*10**-6), 9.7*10**-6],\n",
    "                  'G':[7.2*10**-5, 6.0*10**-5, 2.8*10**-5, 1-(7.2*10**-5+6.0*10**-5+2.8*10**-5)]}"
   ]
  },
  {
   "cell_type": "code",
   "execution_count": 9,
   "metadata": {
    "collapsed": true
   },
   "outputs": [],
   "source": [
    "NTevolveprobDICTTaqP={'A':[1-(1.4*10**-5+4.8*10**-6+1*10**-4), 1.4*10**-5, 4.8*10**-6, 1*10**-4],\n",
    "                      'U':[1.3*10**-5, 1-(1.3*10**-5+1*10**-4+1.6*10**-6), 1*10**-4, 1.6*10**-6],\n",
    "                      'C':[3*10**-6, 3*10**-5, 1-(3*10**-6+3*10**-5+1.3*10**-6), 1.3*10**-6],\n",
    "                      'G':[3*10**-5, 3*10**-6, 3*10**-6, 1-(3*10**-5+3*10**-6+3*10**-6)]}"
   ]
  },
  {
   "cell_type": "code",
   "execution_count": 10,
   "metadata": {
    "collapsed": true
   },
   "outputs": [],
   "source": [
    "NTevolveprobDICTDeepVent={'A':[1-(4.5*10**-5+1*10**-5+4.3*10**-5), 4.5*10**-5, 1*10**-5, 4.3*10**-5],\n",
    "                          'U':[4.5*10**-5, 1-(4.5*10**-5+4.3*10**-5+1*10**-5), 4.3*10**-5, 1*10**-5],\n",
    "                          'C':[4*10**-5, 1*10**-4, 1-(4*10**-5+1*10**-4+1.6*10**-5), 1.6*10**-5],\n",
    "                          'G':[1*10**-4, 4*10**-5, 1.6*10**-5, 1-(1*10**-4+4*10**-5+1.6*10**-5)]}\n",
    "\n"
   ]
  },
  {
   "cell_type": "code",
   "execution_count": 3,
   "metadata": {},
   "outputs": [],
   "source": [
    "#add chance of loss to final probability of evolving new motif/amino acid\n",
    "NTevolveprobDICT=NTevolveprobDICT1\n",
    "PDICT={}\n",
    "nts=['A','U','C','G']\n",
    "for i in nts:\n",
    "    for j in range(len(nts)):\n",
    "        PDICT[i+nts[j]]=NTevolveprobDICT[i][j]\n",
    "probDICT={}\n",
    "for i in CommonMotifProb.DNACodontoAADICT:\n",
    "    for j in CommonMotifProb.DNACodontoAADICT:\n",
    "        if '-' not in i and '-' not in j:\n",
    "            i=i.replace('T','U')\n",
    "            j=j.replace('T','U')\n",
    "            probDICT[i+j]=PDICT[i[0]+j[0]]*PDICT[i[1]+j[1]]*PDICT[i[2]+j[2]]\n",
    "        \n",
    "def MotifProbabilityAsymmwLoss(seq,motif,probDICT):#Motifprobability gain\n",
    "    \n",
    "    #probs for influenza (takes ages running this every function call) use P as argument instead?\n",
    "\n",
    "    currentMotif=seq\n",
    "    motif = CommonMotifProb.MotifRegex(motif)\n",
    "\n",
    "    compoundProbability=[0 for i in range(len(motif))]\n",
    "    probabilityList=[]\n",
    "    for i in range(len(motif)):\n",
    "        CodonsForAminoacids = [CommonMotifProb.AAtoCodonDICT[CommonMotifProb.SingleLetterDICT[f]] for f in motif[i]] #list of all codons for each amino acid at each position\n",
    "        CodonsForAminoacids = [item for sublist in CodonsForAminoacids for item in sublist]\n",
    "\n",
    "\n",
    "        seqcodon= currentMotif[i*3]+currentMotif[(i*3)+1]+currentMotif[(i*3)+2]\n",
    "        \n",
    "        tempCurrentPosProb=0\n",
    "        for motifCodon in CodonsForAminoacids:\n",
    "            codonprobability=probDICT[seqcodon+motifCodon]\n",
    "            tempCurrentPosProb+=codonprobability\n",
    "\n",
    "        compoundProbability[i]=tempCurrentPosProb\n",
    "        \n",
    "    return compoundProbability"
   ]
  },
  {
   "cell_type": "code",
   "execution_count": 4,
   "metadata": {},
   "outputs": [],
   "source": [
    "NTevolveprobDICT=NTevolveprobDICT1\n",
    "PDICT={}\n",
    "nts=['A','U','C','G']\n",
    "for i in nts:\n",
    "    for j in range(len(nts)):\n",
    "        PDICT[i+nts[j]]=NTevolveprobDICT[i][j]\n",
    "probDICT={}\n",
    "for i in CommonMotifProb.DNACodontoAADICT:\n",
    "    for j in CommonMotifProb.DNACodontoAADICT:\n",
    "        if '-' not in i and '-' not in j:\n",
    "            i=i.replace('T','U')\n",
    "            j=j.replace('T','U')\n",
    "            probDICT[i+j]=PDICT[i[0]+j[0]]*PDICT[i[1]+j[1]]*PDICT[i[2]+j[2]]\n",
    "        \n",
    "def MotifProbabilityAsymm(seq,motif,probDICT):#Motifprobability gain\n",
    "    \n",
    "    #probs for influenza (takes ages running this every function call) use P as argument instead?\n",
    "\n",
    "    currentMotif=seq\n",
    "    motif = CommonMotifProb.MotifRegex(motif)\n",
    "\n",
    "    compoundProbability=[0 for i in range(len(motif))]\n",
    "    probabilityList=[]\n",
    "    for i in range(len(motif)):\n",
    "        CodonsForAminoacids = [CommonMotifProb.AAtoCodonDICT[CommonMotifProb.SingleLetterDICT[f]] for f in motif[i]] #list of all codons for each amino acid at each position\n",
    "        CodonsForAminoacids = [item for sublist in CodonsForAminoacids for item in sublist]\n",
    "\n",
    "\n",
    "        seqcodon= currentMotif[i*3]+currentMotif[(i*3)+1]+currentMotif[(i*3)+2]\n",
    "        \n",
    "        tempCurrentPosProb=0\n",
    "        for motifCodon in CodonsForAminoacids:\n",
    "            codonprobability=probDICT[seqcodon+motifCodon]\n",
    "            tempCurrentPosProb+=codonprobability\n",
    "\n",
    "        compoundProbability[i]=tempCurrentPosProb\n",
    "        \n",
    "    return compoundProbability"
   ]
  },
  {
   "cell_type": "code",
   "execution_count": 5,
   "metadata": {},
   "outputs": [
    {
     "name": "stdout",
     "output_type": "stream",
     "text": [
      "CGACGATCCCTCCGA\n",
      "[R][R][S][L][R] 0.9989065952708133 0.001093404729186731\n",
      "AGGAGGAGTTTGAGG\n",
      "[R][R][S][L][R] 0.9979020448231071 0.0020979551768929294\n",
      "1.9978131905416265\n"
     ]
    }
   ],
   "source": [
    "motifs=['[R][R][S][L][R]','[R][R][S][L][R]']\n",
    "seq=['CGACGATCCCTCCGA','AGGAGGAGTTTGAGG']#,'CGACGAACCCTCCGA','CGACGAAGCCTCCGA']\n",
    "probsasym=[]\n",
    "for i in range(len(seq)):\n",
    "    currseq=seq[i]\n",
    "    motif=motifs[i]\n",
    "    print (currseq)\n",
    "    probsasym.append((np.prod(MotifProbabilityAsymm(currseq.replace('T','U'),motif,probDICT))))\n",
    "    \n",
    "    print (motifs[i],probsasym[i], 1-probsasym[i])\n",
    "    \n",
    "print (2*probsasym[0])"
   ]
  },
  {
   "cell_type": "code",
   "execution_count": 7,
   "metadata": {
    "collapsed": true
   },
   "outputs": [],
   "source": [
    "def probb(seq,target):\n",
    "    probs=[]\n",
    "    for i in range(0,len(seq),3):\n",
    "        probs.append(probDICT[seq[i:i+3]+target[i:i+3]])\n",
    "    return np.prod(probs)"
   ]
  },
  {
   "cell_type": "code",
   "execution_count": 9,
   "metadata": {},
   "outputs": [
    {
     "name": "stdout",
     "output_type": "stream",
     "text": [
      "0.00019974872611841594\n"
     ]
    }
   ],
   "source": [
    "print (probb('AUAAUA','AUAAUG'))"
   ]
  },
  {
   "cell_type": "code",
   "execution_count": 10,
   "metadata": {},
   "outputs": [],
   "source": [
    "seq='AUAAUA'\n",
    "\n",
    "totalProbs={}\n",
    "for target in allseqsProbs.keys():\n",
    "    totalProbs[target]=probb(seq,target)*allseqsProbs[target]\n",
    "    \n",
    "#allseqsProbs"
   ]
  },
  {
   "cell_type": "code",
   "execution_count": 61,
   "metadata": {},
   "outputs": [
    {
     "name": "stdout",
     "output_type": "stream",
     "text": [
      "3.86214810826e-13\n"
     ]
    }
   ],
   "source": [
    "total=0\n",
    "for i in totalProbs:\n",
    "    total+=totalProbs[i]\n",
    "print total"
   ]
  },
  {
   "cell_type": "code",
   "execution_count": 13,
   "metadata": {},
   "outputs": [
    {
     "name": "stdout",
     "output_type": "stream",
     "text": [
      "CGACGAATCCTCCGA\n",
      "[R][R][T][L][R] 0.0002297682330527461\n",
      "CGACGAATCCTCCGA\n",
      "[R][R][M][L][R] 5.093439353696497e-06\n",
      "[0.0002297682330527461, 5.093439353696497e-06]\n"
     ]
    }
   ],
   "source": [
    "motifs=['[R][R][T][L][R]','[R][R][M][L][R]']#['[L][R][S][L][R]','[R][R][T][L][R]','[R][R][N][L][R]','[R][R][V][L][R]','[R][R][L][L][R]','[R][R][F][L][R]','[R][R][M][L][R]']#,\n",
    "seq=['CGACGAATCCTCCGA', 'CGACGAATCCTCCGA'] #['CGACGAATCCTCCGA','CGACGAATCCTCCGA','CGACGAATCCTCCGA','CGACGAATCCTCCGA','CGACGAATCCTCCGA','CGACGAATCCTCCGA','CGACGAATCCTCCGA']#['CGGCGAATGCTCCGA','CGACGAACCCTCCGA','CGACGAACCCTCCGA','CGGCGAATGCTCCGA']#,'CGACGAACCCTCCGA','CGACGAAGCCTCCGA']\n",
    "probsasym=[]\n",
    "for i in range(len(seq)):\n",
    "    currseq=seq[i]\n",
    "    motif=motifs[i]\n",
    "    print (currseq)\n",
    "    probsasym.append((np.prod(MotifProbabilityAsymm(currseq.replace('T','U'),motif,probDICT))))\n",
    "    \n",
    "    print (motifs[i],probsasym[i])\n",
    "    \n",
    "print (probsasym)"
   ]
  },
  {
   "cell_type": "code",
   "execution_count": 16,
   "metadata": {
    "scrolled": true
   },
   "outputs": [
    {
     "name": "stdout",
     "output_type": "stream",
     "text": [
      "S ('AGU', [0.00034796635437003994])\n",
      "S ('AGC', [0.00031177913195788796])\n",
      "S ('UCA', [0.00030478945299764376])\n",
      "S ('UCG', [0.00030478945299364533])\n",
      "S ('UCU', [0.00030478938160349855])\n",
      "S ('UCC', [0.00030478938160091376])\n",
      "T ('ACA', [0.00025479127473921394])\n",
      "T ('ACG', [0.00025479098920575867])\n",
      "T ('ACU', [0.0002496928811417733])\n",
      "T ('ACC', [0.00024969269656478966])\n",
      "  codon amino acid  probability\n",
      "0   AGU          S     0.000348\n",
      "1   AGC          S     0.000312\n",
      "2   UCA          S     0.000305\n",
      "3   UCG          S     0.000305\n",
      "4   UCU          S     0.000305\n",
      "5   UCC          S     0.000305\n",
      "6   ACA          T     0.000255\n",
      "7   ACG          T     0.000255\n",
      "8   ACU          T     0.000250\n",
      "9   ACC          T     0.000250\n"
     ]
    }
   ],
   "source": [
    "\n",
    "from operator import itemgetter\n",
    "import pandas as pd\n",
    "tuplelist=[]\n",
    "motifposition='[^ST]'\n",
    "for codon in CommonMotifProb.Codons:\n",
    "    if CommonMotifProb.translateRNA(codon.replace('U','T')) in motifposition:\n",
    "        tuplelist.append((codon,MotifProbabilityAsymm(codon,motifposition,probDICT)))\n",
    "\n",
    "    \n",
    "    \n",
    "sortedfreqs= sorted(tuplelist, key=itemgetter(1),reverse=True)\n",
    "for i in sortedfreqs:\n",
    "    print( CommonMotifProb.translateRNA(i[0].replace('U','T')),i)\n",
    "labels=['codon','amino acid','probability']\n",
    "freqqslist=[]\n",
    "for i in sortedfreqs:\n",
    "    freqqslist.append([i[0],CommonMotifProb.translateRNA(i[0].replace('U','T')),i[1][0]])\n",
    "dataframe=pd.DataFrame(freqqslist,columns=labels)\n",
    "print (dataframe)\n",
    "#dataframe.to_csv(\"codonprobabilities-to-ST.csv\")"
   ]
  },
  {
   "cell_type": "code",
   "execution_count": null,
   "metadata": {
    "collapsed": true
   },
   "outputs": [],
   "source": []
  },
  {
   "cell_type": "code",
   "execution_count": 18,
   "metadata": {
    "scrolled": true
   },
   "outputs": [
    {
     "name": "stdout",
     "output_type": "stream",
     "text": [
      "S ('AGU', [0.00040195377237004003])\n",
      "S ('AGC', [0.00036576654995788805])\n",
      "S ('UCA', [0.00031878889579764377])\n",
      "S ('UCG', [0.00031878889579364534])\n",
      "S ('UCU', [0.0003187888244034986])\n",
      "S ('UCC', [0.0003187888244009137])\n",
      "  codon  probability\n",
      "0   AGU     0.000402\n",
      "1   AGC     0.000366\n",
      "2   UCA     0.000319\n",
      "3   UCG     0.000319\n",
      "4   UCU     0.000319\n",
      "5   UCC     0.000319\n"
     ]
    }
   ],
   "source": [
    "\n",
    "from operator import itemgetter\n",
    "import pandas as pd\n",
    "tuplelist=[]\n",
    "motifposition='[^S]'\n",
    "for codon in CommonMotifProb.Codons:\n",
    "    if CommonMotifProb.translateRNA(codon.replace('U','T')) in motifposition:\n",
    "        tuplelist.append((codon,MotifProbabilityAsymm(codon,motifposition,probDICT)))\n",
    "\n",
    "    \n",
    "    \n",
    "sortedfreqs= sorted(tuplelist, key=itemgetter(1),reverse=True)\n",
    "for i in sortedfreqs:\n",
    "    print (CommonMotifProb.translateRNA(i[0].replace('U','T')),i)\n",
    "labels=['codon','probability']\n",
    "freqqslist=[]\n",
    "for i in sortedfreqs:\n",
    "    freqqslist.append([i[0],i[1][0]])\n",
    "dataframe=pd.DataFrame(freqqslist,columns=labels)\n",
    "print (dataframe)\n",
    "#dataframe.to_csv(\"codonprobabilities-to-ST.csv\")"
   ]
  },
  {
   "cell_type": "code",
   "execution_count": 19,
   "metadata": {},
   "outputs": [
    {
     "name": "stdout",
     "output_type": "stream",
     "text": [
      "T ('ACC', 0.00022993725813288195)\n",
      "V ('GTC', 0.00019993624222084002)\n",
      "S ('AGC', 3.4990452324569004e-05)\n",
      "I ('ATT', 2.6986177755189002e-05)\n",
      "F ('TTC', 1.79942617998756e-05)\n",
      "L ('CTC', 1.4995218166563003e-05)\n",
      "N ('AAC', 1.3996180929827599e-05)\n",
      "I ('ATA', 7.6960581005539e-06)\n",
      "M ('ATG', 5.097389131535699e-06)\n",
      "A ('GCC', 4.5998169199999994e-08)\n",
      "G ('GGC', 6.999721400000001e-09)\n",
      "T ('ACT', 6.208553069999999e-09)\n",
      "V ('GTT', 5.398493400000001e-09)\n",
      "S ('TCC', 4.139835227999999e-09)\n",
      "P ('CCC', 3.44986269e-09)\n",
      "D ('GAC', 2.79988856e-09)\n",
      "T ('ACA', 1.7705873569999996e-09)\n",
      "V ('GTA', 1.53957034e-09)\n",
      "T ('ACG', 1.1727266909999996e-09)\n",
      "V ('GTG', 1.01971542e-09)\n",
      "S ('AGT', 9.447798150000002e-10)\n",
      "C ('TGC', 6.299749260000001e-10)\n",
      "R ('CGC', 5.249791050000001e-10)\n",
      "F ('TTT', 4.85864406e-10)\n",
      "L ('CTT', 4.048870050000001e-10)\n",
      "N ('AAT', 3.7791192600000003e-10)\n",
      "R ('AGA', 2.694372065e-10)\n",
      "Y ('TAC', 2.519899704e-10)\n",
      "H ('CAC', 2.0999164200000002e-10)\n",
      "R ('AGG', 1.784584095e-10)\n",
      "L ('TTA', 1.3856133059999997e-10)\n",
      "L ('CTA', 1.154677755e-10)\n",
      "K ('AAA', 1.0777488259999999e-10)\n",
      "L ('TTG', 9.177438779999999e-11)\n",
      "L ('CTG', 7.64786565e-11)\n",
      "K ('AAG', 7.138336379999999e-11)\n",
      "A ('GCT', 1.242e-12)\n",
      "A ('GCA', 3.5419999999999994e-13)\n",
      "A ('GCG', 2.3459999999999993e-13)\n",
      "G ('GGT', 1.8900000000000005e-13)\n",
      "S ('TCT', 1.1177999999999999e-13)\n",
      "P ('CCT', 9.315000000000001e-14)\n",
      "D ('GAT', 7.560000000000001e-14)\n",
      "G ('GGA', 5.39e-14)\n",
      "G ('GGG', 3.57e-14)\n",
      "S ('TCA', 3.187799999999999e-14)\n",
      "P ('CCA', 2.6564999999999998e-14)\n",
      "E ('GAA', 2.156e-14)\n",
      "S ('TCG', 2.1113999999999994e-14)\n",
      "P ('CCG', 1.7595e-14)\n",
      "C ('TGT', 1.7010000000000005e-14)\n",
      "E ('GAG', 1.428e-14)\n",
      "R ('CGT', 1.4175000000000005e-14)\n",
      "Y ('TAT', 6.804000000000001e-15)\n",
      "H ('CAT', 5.670000000000001e-15)\n",
      "* ('TGA', 4.851e-15)\n",
      "R ('CGA', 4.0425000000000005e-15)\n",
      "W ('TGG', 3.2130000000000003e-15)\n",
      "R ('CGG', 2.6775000000000006e-15)\n",
      "* ('TAA', 1.9403999999999997e-15)\n",
      "Q ('CAA', 1.617e-15)\n",
      "* ('TAG', 1.2851999999999999e-15)\n",
      "Q ('CAG', 1.071e-15)\n",
      "   codon   probability\n",
      "0    ACC  2.299373e-04\n",
      "1    GTC  1.999362e-04\n",
      "2    AGC  3.499045e-05\n",
      "3    ATT  2.698618e-05\n",
      "4    TTC  1.799426e-05\n",
      "..   ...           ...\n",
      "58   CGG  2.677500e-15\n",
      "59   TAA  1.940400e-15\n",
      "60   CAA  1.617000e-15\n",
      "61   TAG  1.285200e-15\n",
      "62   CAG  1.071000e-15\n",
      "\n",
      "[63 rows x 2 columns]\n"
     ]
    }
   ],
   "source": [
    "#check for individual codons which other codons it is most frequently going to mutate into\n",
    "import pandas as pd\n",
    "from operator import itemgetter\n",
    "\n",
    "tuplelist=[]\n",
    "startcodon='AUC'\n",
    "for codon in CommonMotifProb.Codons:\n",
    "    if codon.replace('U','T')!=startcodon.replace('U','T'):\n",
    "        tuplelist.append((codon.replace('U','T'),probDICT[startcodon+codon]))\n",
    "\n",
    "    \n",
    "    \n",
    "sortedfreqs= sorted(tuplelist, key=itemgetter(1), reverse=True)\n",
    "for i in sortedfreqs:\n",
    "    print (CommonMotifProb.translateRNA(i[0].replace('U','T')),i)\n",
    "    \n",
    "labels=['codon','probability']\n",
    "freqqslist=[]\n",
    "for i in sortedfreqs:\n",
    "    freqqslist.append([i[0],i[1]])\n",
    "dataframe=pd.DataFrame(freqqslist,columns=labels)\n",
    "print (dataframe)\n",
    "#dataframe.to_csv(\"codonProbsATC-plotData-Rate2-NoBias.csv\")"
   ]
  },
  {
   "cell_type": "code",
   "execution_count": null,
   "metadata": {
    "collapsed": true
   },
   "outputs": [],
   "source": []
  },
  {
   "cell_type": "code",
   "execution_count": 21,
   "metadata": {},
   "outputs": [
    {
     "name": "stdout",
     "output_type": "stream",
     "text": [
      "ATC ( I ) :  [0.00026494194710438394]\n",
      "ATT ( I ) :  [0.000264940680399595]\n",
      "ATG ( M ) :  [0.00022995366427420495]\n",
      "ATA ( I ) :  [0.00022995170473088492]\n",
      "TTC ( F ) :  [0.000229939539993728]\n",
      "TTT ( F ) :  [0.00022993953997598994]\n",
      "TTG ( L ) :  [0.00022993905004360998]\n",
      "TTA ( L ) :  [0.00022993905001616994]\n",
      "AAC ( N ) :  [0.00021494761559648]\n",
      "AAT ( N ) :  [0.0002149403772834]\n",
      "AGG ( R ) :  [0.00014295697548844]\n",
      "AGA ( R ) :  [8.697674192267999e-05]\n",
      "TGC ( C ) :  [6.798383082150399e-05]\n",
      "TGT ( C ) :  [6.798332408232e-05]\n",
      "GCC ( A ) :  [6.599753129797633e-05]\n",
      "GCT ( A ) :  [6.599753129225311e-05]\n",
      "GCG ( A ) :  [6.59973732140709e-05]\n",
      "GCA ( A ) :  [6.599737320521731e-05]\n",
      "TGG ( W ) :  [5.398693585048001e-05]\n",
      "TGA ( * ) :  [5.398615194456e-05]\n",
      "CCC ( P ) :  [3.469865820949734e-05]\n",
      "CCT ( P ) :  [3.469865820807577e-05]\n",
      "CCG ( P ) :  [3.469861894349503e-05]\n",
      "CCA ( P ) :  [3.4698618941295906e-05]\n",
      "GGC ( G ) :  [3.0999447247616e-05]\n",
      "GGT ( G ) :  [3.099832518228e-05]\n",
      "AAG ( K ) :  [1.5014570852600002e-05]\n",
      "AAA ( K ) :  [1.5003373462200001e-05]\n",
      "TAC ( Y ) :  [1.4998824964160001e-05]\n",
      "TAT ( Y ) :  [1.4998824862800001e-05]\n",
      "TAG ( * ) :  [1.4996025249200002e-05]\n",
      "TAA ( * ) :  [1.4996025092400002e-05]\n",
      "CGC ( R ) :  [7.700851251827199e-06]\n",
      "CGT ( R ) :  [7.700572545276002e-06]\n",
      "GTC ( V ) :  [1.6264986112000003e-08]\n",
      "GTT ( V ) :  [1.6264946834999997e-08]\n",
      "GTG ( V ) :  [1.5180096565000002e-08]\n",
      "GTA ( V ) :  [1.5180035805e-08]\n",
      "CTC ( L ) :  [8.2504965504e-09]\n",
      "CTT ( L ) :  [8.250486794499999e-09]\n",
      "CTG ( L ) :  [7.9810239855e-09]\n",
      "CTA ( L ) :  [7.9810088935e-09]\n",
      "GAC ( D ) :  [7.189920640000001e-09]\n",
      "GAT ( D ) :  [7.1896962e-09]\n",
      "GGG ( G ) :  [6.322668920000001e-09]\n",
      "GGA ( G ) :  [4.58687724e-09]\n",
      "CGG ( R ) :  [2.5590177640000007e-09]\n",
      "CGA ( R ) :  [2.1278695080000002e-09]\n",
      "CAC ( H ) :  [2.0604802879999994e-09]\n",
      "CAT ( H ) :  [2.06042454e-09]\n",
      "GAG ( E ) :  [9.905518000000002e-10]\n",
      "GAA ( E ) :  [9.902046000000002e-10]\n",
      "CAG ( Q ) :  [5.206370600000001e-10]\n",
      "CAA ( Q ) :  [5.205508200000002e-10]\n"
     ]
    }
   ],
   "source": [
    "from operator import itemgetter\n",
    "\n",
    "tuplelist=[]\n",
    "motifposition='[ST]'\n",
    "for codon in CommonMotifProb.Codons:\n",
    "    if CommonMotifProb.translateRNA(codon.replace('U','T')) not in motifposition:\n",
    "        tuplelist.append((codon,MotifProbabilityAsymm(codon,motifposition,probDICT)))\n",
    "\n",
    "    \n",
    "    \n",
    "sortedfreqs= sorted(tuplelist, key=itemgetter(1), reverse=True)\n",
    "for i in sortedfreqs:\n",
    "    print (i[0].replace('U','T'),'(',CommonMotifProb.translateRNA(i[0].replace('U','T')),')',': ',i[1])"
   ]
  },
  {
   "cell_type": "code",
   "execution_count": 23,
   "metadata": {
    "collapsed": true
   },
   "outputs": [],
   "source": [
    "custom_mu = {\"AC\":1.792412, \"AG\":9.542882, \"AT\":0.796239, \"CG\":0.263115,\"CA\":1.792412, \"CT\":9.340186, \"GC\":0.263115,\"GA\":9.542882, \"GT\":1.000000,\"TA\":0.796239,\"TG\":1.000000,\"TC\":9.340186}"
   ]
  },
  {
   "cell_type": "code",
   "execution_count": 25,
   "metadata": {},
   "outputs": [
    {
     "name": "stdout",
     "output_type": "stream",
     "text": [
      "A T = 0.5806451612903226\n",
      "A C = 0.48387096774193555\n",
      "A G = 6.451612903225806\n",
      "T A = 0.45161290322580644\n",
      "T C = 7.419354838709676\n",
      "T G = 1.1290322580645162\n",
      "C A = 0.24838709677419352\n",
      "C T = 0.8709677419354839\n",
      "C G = 0.16451612903225804\n",
      "G A = 1.0\n",
      "G T = 1.1290322580645162\n",
      "G C = 1.7419354838709677\n"
     ]
    }
   ],
   "source": [
    "NTevolveprobDICT={'A':[1-(1.8*10**-4+1.5*10**-5+2.0*10**-4), 1.8*10**-5, 1.5*10**-5, 2.0*10**-4],\n",
    "                  'T':[1.4*10**-5, 1-(2.3*10**-4+3.5*10**-5+1.4*10**-5), 2.3*10**-4, 3.5*10**-5],\n",
    "                  'C':[7.7*10**-6, 2.7*10**-5, 1-(7.7*10**-6+2.7*10**-5+5.1*10**-6), 5.1*10**-6],\n",
    "                  'G':[3.1*10**-5, 3.5*10**-5, 5.4*10**-5, 1-(3.1*10**-5+3.5*10**-5+5.4*10**-5)]}\n",
    "low=3.5*10**-5\n",
    "nts=['A','T','C','G']\n",
    "for i in NTevolveprobDICT:\n",
    "    for j in range(len(nts)):\n",
    "        if nts[j]!=i:\n",
    "            #print i, nts[j], NTevolveprobDICT[i][j]\n",
    "            print (i,nts[j],'=',NTevolveprobDICT[i][j]/NTevolveprobDICT['G'][0])\n"
   ]
  }
 ],
 "metadata": {
  "kernelspec": {
   "display_name": "Python 3.9.6 64-bit",
   "language": "python",
   "name": "python3"
  },
  "language_info": {
   "codemirror_mode": {
    "name": "ipython",
    "version": 3
   },
   "file_extension": ".py",
   "mimetype": "text/x-python",
   "name": "python",
   "nbconvert_exporter": "python",
   "pygments_lexer": "ipython3",
   "version": "3.9.6"
  },
  "vscode": {
   "interpreter": {
    "hash": "31f2aee4e71d21fbe5cf8b01ff0e069b9275f58929596ceb00d14d90e3e16cd6"
   }
  }
 },
 "nbformat": 4,
 "nbformat_minor": 2
}
