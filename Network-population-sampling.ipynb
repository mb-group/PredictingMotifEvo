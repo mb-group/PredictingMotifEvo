{
 "cells": [
  {
   "cell_type": "code",
   "execution_count": 28,
   "metadata": {
    "collapsed": true,
    "deletable": true,
    "editable": true
   },
   "outputs": [],
   "source": [
    "#MAKE Simulated sequence networks for evolution experiments to display sequence variation in cytoscape\n",
    "import pandas as pd\n",
    "import CommonMotifProb"
   ]
  },
  {
   "cell_type": "code",
   "execution_count": 29,
   "metadata": {
    "collapsed": true,
    "deletable": true,
    "editable": true
   },
   "outputs": [],
   "source": [
    "NTevolveprobDICT1={'A':[1-(1.8*10**-5+1.5*10**-5+2.0*10**-4), 1.8*10**-5, 1.5*10**-5, 2.0*10**-4],\n",
    "                  'T':[1.4*10**-5, 1-(2.3*10**-4+3.5*10**-5+1.4*10**-5), 2.3*10**-4, 3.5*10**-5],\n",
    "                  'C':[7.7*10**-6, 2.7*10**-5, 1-(7.7*10**-6+2.7*10**-5+5.1*10**-6), 5.1*10**-6],\n",
    "                  'G':[3.1*10**-5, 3.5*10**-5, 5.4*10**-5, 1-(3.1*10**-5+3.5*10**-5+5.4*10**-5)]}\n",
    "NTevolveprobDICT=NTevolveprobDICT1\n",
    "PDICT={}\n",
    "nts=['A','T','C','G']\n",
    "for i in nts:\n",
    "    for j in range(len(nts)):\n",
    "        PDICT[i+nts[j]]=NTevolveprobDICT[i][j]\n",
    "probDICT={}\n",
    "for i in CommonMotifProb.DNACodontoAADICT:\n",
    "    for j in CommonMotifProb.DNACodontoAADICT:\n",
    "        if '-' not in i and '-' not in j:\n",
    "\n",
    "            probDICT[i+j]=PDICT[i[0]+j[0]]*PDICT[i[1]+j[1]]*PDICT[i[2]+j[2]]"
   ]
  },
  {
   "cell_type": "code",
   "execution_count": 30,
   "metadata": {
    "collapsed": true,
    "deletable": true,
    "editable": true
   },
   "outputs": [],
   "source": [
    "#for each codon at a given motif position eg S/T: compare it with all other codons: If the difference is one, calculate\n",
    "#the probability either given the normal metric or the experimental mutation rate and save codon1 -> interaction -> codon2\n",
    "\n",
    "def makeCodonnetwork(codonlist):\n",
    "    interactList=[['Codon 1','Interaction', 'Codon2']]\n",
    "    for codon1 in codonlist:\n",
    "        for codon2 in codonlist:\n",
    "            if CommonMotifProb.SeqMatch(codon1,codon2)==1:\n",
    "                interactWeight=probDICT[codon1+codon2]\n",
    "                interactList.append([codon1,interactWeight,codon2])\n",
    "    return interactList"
   ]
  },
  {
   "cell_type": "code",
   "execution_count": 31,
   "metadata": {
    "collapsed": true,
    "deletable": true,
    "editable": true
   },
   "outputs": [],
   "source": [
    "#for each codon at a given motif position eg S/T: compare it with all other codons: If the difference is one, calculate\n",
    "#the probability either given the normal metric or the experimental mutation rate and save codon1 -> interaction -> codon2\n",
    "\n",
    "def makeSeqnetwork(seqlist):\n",
    "    interactList=[]\n",
    "    uniquesource=[]\n",
    "    for seq1 in seqlist:\n",
    "        \n",
    "        uniquesource.append(seq1)\n",
    "        for seq2 in seqlist:\n",
    "            if CommonMotifProb.SeqMatch(seq1,seq2)==1:\n",
    "                interactWeight=1\n",
    "                for l in range(len(seq1)):\n",
    "                    interactWeight*=PDICT[seq1[l]+seq2[l]]\n",
    "                interactList.append([seq1,interactWeight,seq2])\n",
    "    return interactList"
   ]
  },
  {
   "cell_type": "code",
   "execution_count": 32,
   "metadata": {
    "collapsed": true,
    "deletable": true,
    "editable": true
   },
   "outputs": [],
   "source": [
    "def ismotifmatch(seq,motif):\n",
    "    for i in range(len(seq)):\n",
    "        if seq[i] not in motif[i]:\n",
    "            return False\n",
    "    return True"
   ]
  },
  {
   "cell_type": "code",
   "execution_count": 33,
   "metadata": {
    "collapsed": true,
    "deletable": true,
    "editable": true
   },
   "outputs": [],
   "source": [
    "def createmotif(motif):\n",
    "    finalmotif=[]\n",
    "    for i in motif:\n",
    "        if i[0]=='.':\n",
    "            finalmotif.append(list(CommonMotifProb.AminoAcid1LTR))\n",
    "        elif i[0]=='^':\n",
    "            print (i)\n",
    "            aas=i[1:]\n",
    "            finalmotif.append(list(CommonMotifProb.AminoAcid1LTR-set(aas)))\n",
    "        else:\n",
    "            finalmotif.append(i)\n",
    "    return finalmotif"
   ]
  },
  {
   "cell_type": "code",
   "execution_count": 34,
   "metadata": {
    "collapsed": false,
    "deletable": true,
    "editable": true
   },
   "outputs": [],
   "source": [
    "import pandas as pd\n",
    "#NeutralSamplingDiffRatesNoBias_forMS1-0.csv\n",
    "DFlist=[pd.read_csv('Data/NeutralSamplingDiffGenotypesNew_forMS1-'+str(i)+'.csv',index_col=0) for i in range(10)]#,pd.read_csv('PKAmotifsimAltRate500reps_2.csv',index_col=0)]\n",
    "#DFlist2=[pd.read_csv('NeutralSamplingDiff2AAs_forMS1-'+str(i)+'.csv',index_col=0) for i in range(10)]\n",
    "df=pd.concat(DFlist)#+DFlist2)\n"
   ]
  },
  {
   "cell_type": "code",
   "execution_count": 35,
   "metadata": {
    "collapsed": false,
    "deletable": true,
    "editable": true,
    "scrolled": true
   },
   "outputs": [
    {
     "name": "stdout",
     "output_type": "stream",
     "text": [
      "TargetCodon\n",
      "AGGAGGATATTGAGG    9960\n",
      "AGGAGGATACTGAGG    9238\n",
      "AGGAGGACATTGAGG    9212\n",
      "AGGAGGATATCGAGG    9182\n",
      "AGGAGGATATTGGGG    8923\n",
      "                   ... \n",
      "AGGAGGAGAGCGAGG       1\n",
      "AGGAGGATACTGGGC       1\n",
      "GGGAGGATACTGAGC       1\n",
      "AGGAGGACAGCGAGG       1\n",
      "AGGAGGATATGGTGG       1\n",
      "Name: count, Length: 870, dtype: int64\n"
     ]
    }
   ],
   "source": [
    "\n",
    "df2=df[(df['StartCodon']=='AGGAGGATATTGAGG')]#|(df['StartCodon']=='AGGAGGATATTGAGG')]\n",
    "a=df2['TargetCodon'].value_counts()\n",
    "print( a)"
   ]
  },
  {
   "cell_type": "code",
   "execution_count": 36,
   "metadata": {
    "collapsed": false,
    "deletable": true,
    "editable": true,
    "scrolled": true
   },
   "outputs": [
    {
     "data": {
      "text/html": [
       "<div>\n",
       "<style scoped>\n",
       "    .dataframe tbody tr th:only-of-type {\n",
       "        vertical-align: middle;\n",
       "    }\n",
       "\n",
       "    .dataframe tbody tr th {\n",
       "        vertical-align: top;\n",
       "    }\n",
       "\n",
       "    .dataframe thead th {\n",
       "        text-align: right;\n",
       "    }\n",
       "</style>\n",
       "<table border=\"1\" class=\"dataframe\">\n",
       "  <thead>\n",
       "    <tr style=\"text-align: right;\">\n",
       "      <th></th>\n",
       "      <th>StartCodon</th>\n",
       "      <th>PopReplicate</th>\n",
       "      <th>TargetCodon</th>\n",
       "      <th>Count</th>\n",
       "    </tr>\n",
       "  </thead>\n",
       "  <tbody>\n",
       "    <tr>\n",
       "      <th>0</th>\n",
       "      <td>CGACGAATCCTCCGA</td>\n",
       "      <td>1</td>\n",
       "      <td>CGACGAATCCTCCGA</td>\n",
       "      <td>11027</td>\n",
       "    </tr>\n",
       "    <tr>\n",
       "      <th>1</th>\n",
       "      <td>CGACGAATCCTCCGA</td>\n",
       "      <td>1</td>\n",
       "      <td>CGTCGAATCCTCCGA</td>\n",
       "      <td>30</td>\n",
       "    </tr>\n",
       "    <tr>\n",
       "      <th>2</th>\n",
       "      <td>CGACGAATCCTCCGA</td>\n",
       "      <td>1</td>\n",
       "      <td>CGACGAGTCCTCCGA</td>\n",
       "      <td>2</td>\n",
       "    </tr>\n",
       "    <tr>\n",
       "      <th>3</th>\n",
       "      <td>CGACGAATCCTCCGA</td>\n",
       "      <td>1</td>\n",
       "      <td>CGACGAATCCGCCGA</td>\n",
       "      <td>1</td>\n",
       "    </tr>\n",
       "    <tr>\n",
       "      <th>4</th>\n",
       "      <td>CGACGAATCCTCCGA</td>\n",
       "      <td>1</td>\n",
       "      <td>CGACGAATCCTCCGG</td>\n",
       "      <td>1</td>\n",
       "    </tr>\n",
       "    <tr>\n",
       "      <th>...</th>\n",
       "      <td>...</td>\n",
       "      <td>...</td>\n",
       "      <td>...</td>\n",
       "      <td>...</td>\n",
       "    </tr>\n",
       "    <tr>\n",
       "      <th>67349</th>\n",
       "      <td>AGGAGGAGTTTGAGG</td>\n",
       "      <td>1000</td>\n",
       "      <td>AGGAGGAGTTTGGGG</td>\n",
       "      <td>2</td>\n",
       "    </tr>\n",
       "    <tr>\n",
       "      <th>67350</th>\n",
       "      <td>AGGAGGAGTTTGAGG</td>\n",
       "      <td>1000</td>\n",
       "      <td>AGGAGGAGTTTGAGG</td>\n",
       "      <td>11110</td>\n",
       "    </tr>\n",
       "    <tr>\n",
       "      <th>67351</th>\n",
       "      <td>AGGAGGAGTTTGAGG</td>\n",
       "      <td>1000</td>\n",
       "      <td>AGGAGGAGTTTGAGA</td>\n",
       "      <td>4</td>\n",
       "    </tr>\n",
       "    <tr>\n",
       "      <th>67352</th>\n",
       "      <td>AGGAGGAGTTTGAGG</td>\n",
       "      <td>1000</td>\n",
       "      <td>AGGAGGAGTTTTAGG</td>\n",
       "      <td>1</td>\n",
       "    </tr>\n",
       "    <tr>\n",
       "      <th>67353</th>\n",
       "      <td>AGGAGGAGTTTGAGG</td>\n",
       "      <td>1000</td>\n",
       "      <td>AGGATGAGTTTGAGG</td>\n",
       "      <td>1</td>\n",
       "    </tr>\n",
       "  </tbody>\n",
       "</table>\n",
       "<p>672745 rows × 4 columns</p>\n",
       "</div>"
      ],
      "text/plain": [
       "            StartCodon  PopReplicate      TargetCodon  Count\n",
       "0      CGACGAATCCTCCGA             1  CGACGAATCCTCCGA  11027\n",
       "1      CGACGAATCCTCCGA             1  CGTCGAATCCTCCGA     30\n",
       "2      CGACGAATCCTCCGA             1  CGACGAGTCCTCCGA      2\n",
       "3      CGACGAATCCTCCGA             1  CGACGAATCCGCCGA      1\n",
       "4      CGACGAATCCTCCGA             1  CGACGAATCCTCCGG      1\n",
       "...                ...           ...              ...    ...\n",
       "67349  AGGAGGAGTTTGAGG          1000  AGGAGGAGTTTGGGG      2\n",
       "67350  AGGAGGAGTTTGAGG          1000  AGGAGGAGTTTGAGG  11110\n",
       "67351  AGGAGGAGTTTGAGG          1000  AGGAGGAGTTTGAGA      4\n",
       "67352  AGGAGGAGTTTGAGG          1000  AGGAGGAGTTTTAGG      1\n",
       "67353  AGGAGGAGTTTGAGG          1000  AGGATGAGTTTGAGG      1\n",
       "\n",
       "[672745 rows x 4 columns]"
      ]
     },
     "execution_count": 36,
     "metadata": {},
     "output_type": "execute_result"
    }
   ],
   "source": [
    "df"
   ]
  },
  {
   "cell_type": "code",
   "execution_count": 37,
   "metadata": {
    "collapsed": false,
    "deletable": true,
    "editable": true
   },
   "outputs": [],
   "source": [
    "from CommonMotifProb import SeqMatch\n",
    "seqnetworklist=[]\n",
    "uniquesource=[]\n",
    "for i in a.keys():\n",
    "    uniquesource.append(i)\n",
    "    for j in a.keys():\n",
    "        if SeqMatch(i,j)==1 and j not in uniquesource:\n",
    "            seqnetworklist.append([i,j])"
   ]
  },
  {
   "cell_type": "code",
   "execution_count": 38,
   "metadata": {
    "collapsed": false,
    "deletable": true,
    "editable": true
   },
   "outputs": [],
   "source": [
    "seqnetworklist=makeSeqnetwork(a.keys())\n",
    "columns=['SourceSeq','ProbWeight', 'TargetSeq']\n",
    "#seqnetworklist\n",
    "\n",
    "df2=pd.DataFrame(seqnetworklist,columns=columns)"
   ]
  },
  {
   "cell_type": "code",
   "execution_count": 39,
   "metadata": {
    "collapsed": true,
    "deletable": true,
    "editable": true
   },
   "outputs": [],
   "source": [
    "aaseqs=[]\n",
    "for i,row in df2.iterrows():\n",
    "    seq1=CommonMotifProb.translateRNA(row.SourceSeq)\n",
    "    seq2=CommonMotifProb.translateRNA(row.TargetSeq)\n",
    "    aaseqs.append([seq1,row.ProbWeight,seq2])\n",
    "    \n",
    "dfaa=pd.DataFrame(aaseqs,columns=columns)"
   ]
  },
  {
   "cell_type": "code",
   "execution_count": 40,
   "metadata": {
    "collapsed": false,
    "deletable": true,
    "editable": true
   },
   "outputs": [],
   "source": [
    "newaadictdata=[]\n",
    "alreadychecked=[]\n",
    "for i,row in dfaa.iterrows():\n",
    "    if row.SourceSeq+row.TargetSeq not in alreadychecked and row.SourceSeq!=row.TargetSeq and '*' not in row.SourceSeq :\n",
    "\n",
    "        dftemp=dfaa[(dfaa['SourceSeq']==row.SourceSeq)&(dfaa['TargetSeq']==row.TargetSeq)]\n",
    "        probs=dftemp['ProbWeight']\n",
    "        probssum=probs.sum()\n",
    "        newaadictdata.append([row.SourceSeq, probssum, row.TargetSeq])\n",
    "        alreadychecked.append(row.SourceSeq+row.TargetSeq)"
   ]
  },
  {
   "cell_type": "code",
   "execution_count": 41,
   "metadata": {
    "collapsed": true,
    "deletable": true,
    "editable": true
   },
   "outputs": [],
   "source": [
    "dfnewaa=pd.DataFrame(newaadictdata,columns=columns)"
   ]
  },
  {
   "cell_type": "code",
   "execution_count": 42,
   "metadata": {
    "collapsed": true,
    "deletable": true,
    "editable": true
   },
   "outputs": [],
   "source": [
    "dfnewaa.to_csv('SeqNetworkLandscapeAminoAcidIdenticalAASeq2.csv')"
   ]
  },
  {
   "cell_type": "code",
   "execution_count": 43,
   "metadata": {
    "collapsed": false,
    "deletable": true,
    "editable": true
   },
   "outputs": [],
   "source": [
    "df2.to_csv('SeqNetworkLandscapeIdenticalAA.csv')"
   ]
  },
  {
   "cell_type": "code",
   "execution_count": 55,
   "metadata": {
    "collapsed": false,
    "deletable": true,
    "editable": true
   },
   "outputs": [
    {
     "data": {
      "text/plain": [
       "StartCodon\n",
       "AGGAGGATATTGAGG    194433\n",
       "AGGAGGAGTTTGAGG    192800\n",
       "CGACGAATCCTCCGA    147295\n",
       "CGACGATCCCTCCGA    138217\n",
       "Name: count, dtype: int64"
      ]
     },
     "execution_count": 55,
     "metadata": {},
     "output_type": "execute_result"
    }
   ],
   "source": [
    "df['StartCodon'].value_counts()"
   ]
  },
  {
   "cell_type": "code",
   "execution_count": 60,
   "metadata": {
    "collapsed": true,
    "deletable": true,
    "editable": true
   },
   "outputs": [],
   "source": [
    "def uniqueAA(ntlist):\n",
    "    AAlist=[]\n",
    "    for i in ntlist:\n",
    "        peptide=CommonMotifProb.translateRNA(i)\n",
    "        if peptide not in AAlist:\n",
    "            AAlist.append(peptide)\n",
    "    return AAlist"
   ]
  },
  {
   "cell_type": "code",
   "execution_count": 57,
   "metadata": {
    "collapsed": false,
    "deletable": true,
    "editable": true
   },
   "outputs": [],
   "source": [
    "#AGGAGGATATTGAGG\n",
    "#CGACGAATCCTCCGA\n",
    "df2=df[df['StartCodon']=='CGACGAATCCTCCGA']\n",
    "df3=df[df['StartCodon']=='AGGAGGATATTGAGG']\n"
   ]
  },
  {
   "cell_type": "code",
   "execution_count": 64,
   "metadata": {},
   "outputs": [
    {
     "data": {
      "text/plain": [
       "array(['CGACGAATCCTCCGA', 'CGTCGAATCCTCCGA', 'CGACGAGTCCTCCGA',\n",
       "       'CGACGAATCCGCCGA', 'CGACGAATCCTCCGG', 'CGACGAATCCTCCTA',\n",
       "       'CGGCGAATCCTCCGA', 'CGACGGATCCTCCGA', 'CGATGAATCCTCCGA',\n",
       "       'CGACGAATCATCCGA', 'CGACGAATCCTCTGA', 'CGACGATTCCTCCGA',\n",
       "       'CGACGACTCCTCCGA', 'CGACAAATCCTCCGA', 'CGACGAATCCCCCGA',\n",
       "       'CGGCGAATCCTCAGA', 'CGACGAATCCTTCGA', 'CAACGAATCCTCCGA',\n",
       "       'CGACGAAGCCTCCGA', 'CGGCGAATCCTCCTA', 'CGACGAACCCTCCGA',\n",
       "       'CGACGAATCCTCCAA', 'CGACGAACCCGCCGA', 'CGACGAATCTTCCGA',\n",
       "       'CCACGAATCCGCCGA', 'CGACGAATCCTCCCA', 'CGACTAATCCTCCGA',\n",
       "       'CGACGAATCCACCGA', 'CGACGAATCCTCAGA', 'CGACGACTCCCCCGA',\n",
       "       'CGACGGATCCCCCGA', 'CGACGAATCTCCCGA', 'CGACGAAACCCCCGA',\n",
       "       'CGCCGAATCCCCCGA', 'CTACGAATCCTCCGA', 'CCACGAATCCCCCGA',\n",
       "       'CGACGAATTCCCCGA', 'CGACGAGTCCCCCGA', 'CGACGAATCCCCCTA',\n",
       "       'CGACGAATCCCCCGG', 'CCACGAATCCTCCGA', 'CGACGAACCCCCCGA',\n",
       "       'CGACGAATACTCCGA', 'CGACGAATTCTCCGA', 'CGACGAATGCTCCGA',\n",
       "       'CGACGCATCCTCCGA', 'TGACGAATCCTCCGA', 'CGACGAATCCTCCGC',\n",
       "       'CGACGAAACCTCCGA', 'TTACGAATCCTCCGA', 'CGACGAATCGTCCGA',\n",
       "       'CGACCAATCCTCCGA', 'CGACGAATCCTCCGT', 'CGCCGAATCCTCCGA',\n",
       "       'CGAAGAATCCTCCGA', 'CGACGAGTCCTCCGC', 'CGACGAATCCTACGA',\n",
       "       'CGACGTATCCTCCGA', 'CGACGAACCTTCCGA', 'GGACGAATCCTCCGA',\n",
       "       'CGACGAATCCTGCGA', 'CGAGGAATCCTCCGA', 'CGACGAATCCTCGGA',\n",
       "       'CGACGGATCCTCCGG', 'CGACGGCTCCTCCGA', 'CGACGAATCCCCCCA',\n",
       "       'AGACGAATCCTCCGA', 'CGGCGAATCCCCCGA', 'CCACGAACCCTCCGA',\n",
       "       'CGACTAGTCCTCCGA', 'CGACCGATCCTCCGA', 'CGACGAATCTTTCGA',\n",
       "       'CGACGAATCCCACGA', 'CGACGAATCCGCCAA', 'CCGCGAATCCTCCGA',\n",
       "       'CGACGAACCCACCGA', 'CGACGGATCATCCGA', 'CGGCGAATCATCCGA',\n",
       "       'CGACGAGTCCTCTGA', 'CGGCGAGTCCTCCGA', 'CGACGATTCCTCCGT',\n",
       "       'CGACGAATCCTCCCT', 'CCACGAATCCTCCGT', 'CGACGAATCCCCCGT',\n",
       "       'CGACGAGTCCTCCGT', 'CGACGAACCCTCCGT', 'CGACGTATCCTCCGT',\n",
       "       'CGTCGAATCCTCCGT', 'CGGCGAATCCTCCGT', 'CGACGAGTTCTCCGA',\n",
       "       'CGGCGGATCCTCCGA', 'CGACGAATCCCCCGC', 'CCATGAATCCTCCGA',\n",
       "       'CCACGAAGCCTCCGA', 'CGACGGATTCTCCGA', 'CGACCAATCCCCCGA',\n",
       "       'CGATGATTCCTCCGA', 'CGACTGATCCTCCGA', 'CGACGGATGCTCCGA',\n",
       "       'CGACGGACCCTCCGA', 'CAACGGATCCTCCGA', 'CGACGGGTCCTCCGA',\n",
       "       'CGACGAATCCTCCAG', 'CCACGAATCCTCCAA', 'CGACGAGCCCTCCGA',\n",
       "       'CGACGCGTCCTCCGA', 'CGACGGATCCGCCGA', 'CGACGGATCCTCCCA',\n",
       "       'CGGCGAATCCTCTGA', 'CGGCTAATCCTCCGA', 'CGGCGACTCCTCCGA',\n",
       "       'CAACGAATCCTCCGG', 'CAACGAGTCCTCCGA', 'CGACGAATCCTCAGG',\n",
       "       'CAACGAACCCTCCGA', 'CAGCGAATCCTCCGA', 'CGGCGCATCCTCCGA',\n",
       "       'CGGCGAATCCTCCGG', 'CGGGGAATCCTCCGA', 'CGACTAATCCTCCGG',\n",
       "       'CGACGAACCCTCCCA', 'CCACGAGTCCTCCGA', 'CTACGAGTCCTCCGA',\n",
       "       'CGACCAGTCCTCCGA', 'CGACGAAGCCCCCGA', 'CGGTGAATCCTCCGA',\n",
       "       'CGACGAGTCCTCCAA', 'CGTCGAATCCCCCGA', 'CGACTAATCCTCCGT',\n",
       "       'CGATTAATCCTCCGA', 'CGTCTAATCCTCCGA', 'CGACTAATCCTCCCA',\n",
       "       'CTACTAATCCTCCGA', 'CGACTAATCCTCCAA', 'CGACTAATCTTCCGA',\n",
       "       'CGACTAATCCCCCGA', 'CGACTAACCCTCCGA', 'TGACGAATCCTCCGT',\n",
       "       'CGACGAATCTTCCGT', 'CGGCGAAACCTCCGA', 'CGGCGAAGCCTCCGA',\n",
       "       'CGGCGAACCCTCCGA', 'CGCCGAATCCTCCCA', 'CGACGAAGCCTCCGG',\n",
       "       'CGTCGAATCCTCCGG', 'CGTCGAACCCTCCGA', 'CGTCGAATCTTCCGA',\n",
       "       'CGACGAATCCCCTGA', 'CGACGAGTCCTCCGG', 'CGACGGATCCTCTGA',\n",
       "       'CGACGAATCTGCCGA', 'CGACGAGTCCACCGA', 'CGACGAACCCTCCAA',\n",
       "       'CGTCGAAGCCTCCGA', 'CGACGGATCCTACGA', 'CTACCAATCCTCCGA',\n",
       "       'CGACGAACCCTCCGG', 'CGACGAACCCTCTGA', 'TGACGAATCCCCCGA',\n",
       "       'CGACGAAGCCTCCGC', 'CGACGATTCCTCCGG', 'CGACGAAGCCTCCCA',\n",
       "       'CGGCGAATCCTCCCA', 'CGGCAAATCCTCCGA', 'CGACAAATCCCCCGA',\n",
       "       'CCACGAAACCTCCGA', 'CCACGAATCCTCCCA', 'CCCCGAATCCTCCGA',\n",
       "       'CCACGATTCCTCCGA', 'CCACGAATCCTCCGG', 'CCACGTATCCTCCGA',\n",
       "       'CGAGGAGTCCTCCGA', 'CCACGGATCCTCCGA', 'CAACCAATCCTCCGA',\n",
       "       'CGACCAATTCTCCGA', 'CGACGTATCCTCCTA', 'CGACAAATACTCCGA',\n",
       "       'AGACGAATCCCCCGA', 'CGACGAACCCTCCTA', 'GGACGGATCCTCCGA',\n",
       "       'CGACGAAACCTTCGA', 'CGAAGAATCCTCCGG', 'CGACGAGTCCTCCTA',\n",
       "       'CGACGAATCCTCCTG', 'CGACGACCCCTCCGA', 'TGACGAACCCTCCGA',\n",
       "       'CGACCAACCCTCCGA', 'CGACGAACCATCCGA', 'CGACGAACCCTCCGC',\n",
       "       'CGACGAACCCTTCGA', 'CTACGGATCCTCCGA', 'CGGCGAATACTCCGA',\n",
       "       'CGAAGAACCCTCCGA', 'CGACAAACCCTCCGA', 'CTACGAACCCTCCGA',\n",
       "       'CGACGAATCCTCCCG', 'CGACGGATCCTCCTA', 'CGACAAATCCTCCGT',\n",
       "       'CGACGAAAGCTCCGA', 'CGACAAATCCTCCGG', 'CGACTAATCCTCCTA',\n",
       "       'TGACGAATCCTCCAA', 'CGATGGATCCTCCGA', 'CGACGAATTCACCGA',\n",
       "       'CGACGAATCCCGCGA', 'CGACGAATCCCTCGA', 'GGACGAACCCTCCGA',\n",
       "       'CGACGTATCTTCCGA', 'CGACGATTCCCCCGA', 'TGACGAATCCTCCGG',\n",
       "       'CGACGAGTCCGCCGA', 'CGACGAATCCTTTGA', 'CGGAGAATCCTCCGA',\n",
       "       'CGACGAATCCTTCGC', 'CTACGAATCCCCCGA', 'CGAAGAATCCCCCGA',\n",
       "       'CCACAAATCCTCCGA', 'CGAGGGATCCTCCGA', 'CGACGAATCCGCCGG',\n",
       "       'CGACGAATCCCCTGG', 'CGACGAACCCCCCGG', 'CGACGAATTCTCCGG',\n",
       "       'CGACGAAACCTCCGG', 'CGACGAATCCTCTGG', 'CGGCGAATCCTCCGC',\n",
       "       'CGACGAATCCGCCGC', 'CGACGGATCCTCCGC', 'CGACGAATCCTCCTC',\n",
       "       'AGACGAATCCTCCGG', 'AGTCGAATCCTCCGA', 'AGACGAGTCCTCCGA',\n",
       "       'GGACGAATCCTCCCA', 'CGACCAATCCTCCTA', 'CGACGAACTCTCCGA',\n",
       "       'CGACGAATCCACCGG', 'CCACGAATACTCCGA', 'CGTCGGATCCTCCGA',\n",
       "       'CGACGAGTCATCCGA', 'CGACGAGTCCTCCCA', 'CCACCAATCCTCCGA',\n",
       "       'CGACGAGACCTCCGA', 'CGGCGAATCCACCGA', 'CGACGCACCCTCCGA',\n",
       "       'CGACGATTCCCCCGG', 'TGACGATTCCTCCGA', 'CGGCGATTCCTCCGA',\n",
       "       'CGACGATTCCTCCCA', 'CGACGGTTCCTCCGA', 'CGACGATTCCTCTGA',\n",
       "       'CGACGATTCCTTCGA', 'CGACTATTCCTCCGA', 'CGACGATCCCTCCGA',\n",
       "       'CGACGATTCCGCCGA', 'CGGCGAATCCTTCGA', 'CAACGAATCCCCCGA',\n",
       "       'CGACGTATCCCCCGA', 'CCACGAATGCTCCGA', 'CGATGAATCCCCCGA',\n",
       "       'CGACGGATCCTCCAA', 'CGACGGATCTTCCGA', 'CTACGAATCCTCCGG',\n",
       "       'CGGCGAATCCTGCGA', 'CGACCAATCCTCCCA', 'CGACAATTCCTCCGA',\n",
       "       'CGACGATTCCTCCAA', 'CCACTAATCCTCCGA', 'CGACGGAACCTCCGA',\n",
       "       'CGACGGATCCTTCGA', 'CGACCAAGCCTCCGA', 'CCACGAATCCTCCTA',\n",
       "       'CGGCGAATGCTCCGA', 'CGACGTATCCTCCGG', 'CGACCAATCCTCCGG',\n",
       "       'CGACTACTCCTCCGA', 'CGACCATTCCTCCGA', 'CGACGGATACTCCGA',\n",
       "       'CGATGAACCCTCCGA', 'CTACGAATCCGCCGA', 'CGACGAGGCCTCCGA',\n",
       "       'TGGCGAATCCTCCGA', 'CGGCGAATCCGCCGA', 'CTACGATTCCTCCGA',\n",
       "       'CGACGAATCCTGCAA', 'CGACGGAGCCTCCGA', 'CGACGAATCCGTCGA',\n",
       "       'CTGCGAATCCTCCGA', 'CGGCCAATCCTCCGA', 'AGACGAATCCTCCAA',\n",
       "       'AGACGAATTCTCCGA', 'AGACGAATCCTCCCA', 'AGGCGAATCCTCCGA',\n",
       "       'AAACGAATCCTCCGA', 'AGACGAATCTTCCGA', 'CGACCAATCCGCCGA',\n",
       "       'TGACCAATCCTCCGA', 'CACCGAATCCTCCGA', 'CAACGAAGCCTCCGA',\n",
       "       'CGACGAATCCTACCA', 'CAAAGAATCCTCCGA', 'CCACGAATCCTCAGA',\n",
       "       'CGCCGAGTCCTCCGA', 'CGACAAATCCTCCCA', 'CGACGCATCCTCCGG',\n",
       "       'CGACGAATCCGCCTA', 'CGACGGATCCTCCGT', 'AGACGGATCCTCCGA',\n",
       "       'CGGCGTATCCTCCGA', 'CCAAGAATCCTCCGA', 'CGACGAATCCCCCAA',\n",
       "       'CGACGGATCGTCCGA', 'CGACGAATCCGCCCA', 'CGACGAATCCGCTGA',\n",
       "       'TGACGAATCCGCCGA', 'CGACGAATCCGCAGA', 'CGACGGATCCACCGA',\n",
       "       'CGACGACTCCTCCGG', 'CAACGACTCCTCCGA', 'CGACGACTCCTCCTA',\n",
       "       'AGTCGAATCCGCCGA', 'CGTCGAATCCGCCGA', 'CGTCGAATCCGCCGG',\n",
       "       'CGACGAATCCCCAGA', 'CGACGGATCCTCAGA', 'CGACGAAACCTCAGA',\n",
       "       'CGACAAGTCCTCCGA', 'CGACGCATCCCCCGA', 'CGATCAATCCTCCGA',\n",
       "       'CCACGAATCCTCCGC', 'CGAGGAATCCTCCCA', 'CGGCGAATCCTCCAA',\n",
       "       'CGGCGAATCCTACGA', 'CGATGAGTCCTCCGA', 'CTACGAAACCTCCGA',\n",
       "       'CGACGAATCCTGCCA', 'CGACGAATCCTGCGT', 'CGACGAGTCCTGCGA',\n",
       "       'CGACGAATCCTGCTA', 'CGACGGATCCTGCGA', 'CGACGAATCCTGCGG',\n",
       "       'CGACGAATCCTGTGA', 'CGACGAATCGTGCGA', 'CGCCGAATCCTGCGA',\n",
       "       'CGACGAATCCAGCGA', 'CGACGAAACCTGCGA', 'CGACGAACCCTGCGA',\n",
       "       'CGGCGAATTCTCCGA', 'TGACAAATCCTCCGA', 'CGACATATCCTCCGA',\n",
       "       'CGATGTATCCTCCGA', 'CGACCTATCCTCCGA', 'CGACGTACCCTCCGA',\n",
       "       'CGACGTGTCCTCCGA', 'CGATGAAGCCTCCGA', 'CGACGAAGCCTCCTA',\n",
       "       'CGACGAAGCCTACGA', 'CGACGAAGCCTCTGA', 'CGACGTATCCTGCGA',\n",
       "       'CGACGTTTCCTCCGA', 'TGACGTATCCTCCGA', 'CGACGTATCCTCCGC',\n",
       "       'CTACGTATCCTCCGA', 'CTACGAACCCTCTGA', 'CTACGAATCCTCTGA',\n",
       "       'CGACGAAACCTCTGA', 'CGACGCATCCTCTGA', 'CGACGAATCGTCTGA',\n",
       "       'CGACGAATCCGCCGT', 'TGACGGATCCTCCGA', 'CGACCCATCCTCCGA',\n",
       "       'CGACGAATCTTCCTA', 'TGACGAGTCCTCCGA', 'CGACGAGCTCTCCGA',\n",
       "       'AGACGAACCCTCCGA', 'CGACGAAACCACCGA', 'CGACCAAACCTCCGA',\n",
       "       'CGACGAACCCTCGGA', 'CGCCGAATCCTCCGG', 'CGACGATTCCTACGA',\n",
       "       'CGACGAGTCTTCCGA', 'CGACGAATATTCCGA', 'CGACGAAGCTTCCGA',\n",
       "       'CGGCGAATCTTCCGA', 'CGACGCATCTTCCGA', 'CGCCGAATCTTCCGA',\n",
       "       'CGACCAATCTTCCGA', 'CGACAAATCTTCCGA', 'CGACGAATCTGCCGG',\n",
       "       'CGACGAATCATCCTA', 'CCACGAATCCTCTGA', 'CGACGAATCGTCCGG',\n",
       "       'CCACGCATCCTCCGA', 'CGACTAAGCCTCCGA', 'CGACGAATCCTTCGG',\n",
       "       'CGAGGAATCCCCCGA', 'CCACGAATCCTGCGA', 'GGGCGAATCCTCCGA',\n",
       "       'CGACGAACCCTACGA', 'TGACGAATTCTCCGA', 'CGACGTATTCTCCGA',\n",
       "       'CGACGAAGCCTTCGA', 'TGACGAAGCCTCCGA', 'CGACGAAGCCGCCGA',\n",
       "       'CTACGAAGCCTCCGA', 'CGACGAAGCCTCCAA', 'TCACGAATCCTCCGA',\n",
       "       'GGACGAATCCCCCGA', 'CGATGAATCCTCTGA', 'CAACGAATCATCCGA',\n",
       "       'CGACGAATCCTCCAT', 'CGATGAATCCTCCGG', 'TGACGAATCTTCCGA',\n",
       "       'CGACGATTCGTCCGA', 'CGACGAATCCTTCTA', 'GGACGAATCCACCGA',\n",
       "       'CTACGAATCCTCCGT', 'CGACGAATCACCCGA', 'CTACGAATCCTCCTA',\n",
       "       'CAACGAATCCTCCTA', 'CGACAGATCCTCCGA', 'AGACAAATCCTCCGA',\n",
       "       'AGATGAATCCTCCGA', 'CGACGTATCCGCCGA', 'CGACGAAACTTCCGA',\n",
       "       'CGACGAATCTTCCAA', 'CCTCGAATCCTCCGA', 'CAACGAATCCTTCGA',\n",
       "       'AGACTAATCCTCCGA', 'CGCCGAACCCTCCGA', 'CGACGAACGCTCCGA',\n",
       "       'CGACGAACCCTCAGA', 'CGACGAGTCCTTCGA', 'CGACTAATCCTCGGA',\n",
       "       'CGACCAATCCTTCGA', 'CGACGAATCCTTCCA', 'CCACGAATCCACCGA',\n",
       "       'CGACGCAGCCTCCGA', 'CGACGAATCCTCTGT', 'CGACCAATCCTCCAA',\n",
       "       'CGACGAATCCTCAAA', 'CGGCGAATCCCCCAA', 'CGACTAATTCTCCGA',\n",
       "       'CGTCGAATCCTCTGA', 'CGTCGAATCCTCCGC', 'CGTCGAAACCTCCGA',\n",
       "       'CGTCGAATCCTCCCA', 'CGTCGTATCCTCCGA', 'CGTCGAATCCTTCGA',\n",
       "       'CGTCGAATTCTCCGA', 'CGTCGAGTCCTCCGA', 'CGACGCATCATCCGA',\n",
       "       'CGTCGATTCATCCGA', 'CGACGAATCATTCGA', 'CGACGAATTATCCGA',\n",
       "       'CGACGAATCATCTGA', 'CGACGAATCATCCGG', 'CGACTAATCATCCGA',\n",
       "       'CCACGAATCATCCGA', 'CAACGATTCCTCCGA', 'TGAAGAATCCTCCGA',\n",
       "       'CGACGAAACCTCCTA', 'CGACGAATCCTTGGA', 'CCACGAATCCTCGGA',\n",
       "       'CGACGAGTCCTCGGA', 'CGACGGATCCTCGGA', 'CGACGAATCCTCTCA',\n",
       "       'CTACGAATCCTCCAA', 'CGACGAACCCCCCGT', 'CGACAAATCCGCCGA',\n",
       "       'CGACGAATACTCTGA', 'CGACGAATCCTCACA', 'CGACGAATCTTCCGG',\n",
       "       'TGACGCATCCTCCGA', 'CGAGGAATCCTCCGG', 'CAACGAATCCACCGA',\n",
       "       'CGCCGGATCCTCCGA', 'CGACGATTCCACCGA', 'CTACGAAGCCTCCGG',\n",
       "       'CGACGAAGCCCCCGG', 'CGACGGAGCCTCCGG', 'GGACGAGTCCTCCGA',\n",
       "       'CTACGAATACTCCGA', 'CGACGAACACTCCGA', 'CTACGAATCCACCGA',\n",
       "       'CGCCGAATCCTCCGT', 'CGACGAGTGCTCCGA', 'CGACGAATTCTACGA',\n",
       "       'TGACGAATCCTTCGA', 'CGAAGAATCCGCCGA', 'GTACGAATCCTCCGA',\n",
       "       'CGACGACTCCGCCGA', 'CGTCAAATCCTCCGA', 'CGATGAATCCTCCGT',\n",
       "       'CAACGAATCCTCCCA', 'CAACGAATCCTCTGA', 'TGTCGAATCCTCCGA',\n",
       "       'CGACGAATGCCCGGA', 'CGACGGATCCCCGGA', 'CGACGAATCCCCGGA',\n",
       "       'CGAGGAATCCCCAGA', 'CGACGAGTCCCCGGA', 'CGACCAATCCCCGGA',\n",
       "       'CGACGAATCCTCGGG', 'CAACGAATCCTCCAA', 'CGACCAATCCTCCGT',\n",
       "       'CGCCTAATCCTCCGA', 'CCACGACTCCTCCGA', 'CCACGACTCCCCCGA',\n",
       "       'CAACGAATTCTCCGA', 'CGATGAATCCTGCGA', 'CGACGAATCTACCGA',\n",
       "       'CGACGAATCGCCCGA', 'CGACAAAGCCTCCGA', 'CGACCACTCCTCCGA',\n",
       "       'CGGCGAATCCTCGGA', 'CGACCAATCCTCCGC', 'CGACCAATCCTCTGA',\n",
       "       'CGATGAATCCTCCCA', 'CGACGAATACGCCGA', 'CGACGCATCCTTCGA',\n",
       "       'CGACGAATCCTTAGA', 'CCACGAATCCTTCGA', 'CGACGATTCCTCCGC',\n",
       "       'CGACGACACCTCCGA', 'CGGCGAATCGTCCGA', 'CCACGAATCGTCCGA',\n",
       "       'CCACGAATTCTCCGA', 'CGACTAATCCTACGA', 'CTACGAATCCTCCCA',\n",
       "       'CGACGAATGCTCCGG', 'CGACGAGGCCTCCGG', 'CGACGAATACTCCGG',\n",
       "       'CGACGAATCTTCCCA', 'CAACGAATCGTCCGA', 'CGCCCAATCCTCCGA',\n",
       "       'CGAACAATCCTCCGA', 'CGACGAATTCTCCGT', 'AGACGAATCCTTCGA',\n",
       "       'CAACGAATCCTCCGC', 'CGACGAATCTTACGA', 'CGACTAATCCGCCGA',\n",
       "       'CGATGAATCCGCCGA', 'CGACAAATCATCCGA', 'CTACAAATCCTCCGA',\n",
       "       'CAACAAATCCTCCGA', 'CGACAAATCCTCCGC', 'CGACAAATTCTCCGA',\n",
       "       'CGACAAATCCTCCTA', 'CGACAACTCCTCCGA', 'CGACAAATCCTCCAA',\n",
       "       'CGAGGAATCCTCCTA', 'TGACGAATCCTCCCA', 'CGACGACTCCTCTGA',\n",
       "       'GCACGAATCCTCCGA', 'GGACCAATCCTCCGA', 'CGAAGGATCCTCCGA',\n",
       "       'CAAGGAATCCTCCGA', 'CGACGAATCCGGCGA', 'CGACGGACCCCCCGA',\n",
       "       'TGACGAATCCTCTGA', 'AGACGAATCCTCCGT', 'CGGCGAACCCTCCGG',\n",
       "       'CGCCGAAGCCTCCGA', 'CGACGAAACCTCCCA', 'CGACGACTCCTCCCA',\n",
       "       'AGACGAATCCGCCGA', 'CGAGGAATCCTACGA', 'TGACGAATCCACCGA',\n",
       "       'CGACGAATACTACGA', 'CGACGAGTACTCCGA', 'CGACTTATCCTCCGA',\n",
       "       'CAACTAATCCTCCGA', 'CGACGAAGCATCCGA', 'CGACGACTCCTTCGA',\n",
       "       'CGAAGTATCCTCCGA', 'CGACGAATCCACCTA', 'CCACGAATCCTACGA',\n",
       "       'CGAAGAATCCTCTGA', 'CGACGAATCCTCTGC', 'CGTCCAATCCTCCGA',\n",
       "       'CGTTGAATCCTCCGA', 'CGTCGACTCCTCCGA', 'CTTCGAATCCTCCGA',\n",
       "       'CGTCGAATGCTCCGA', 'CGACGAATACCCCGA', 'CGACAAAACCTCCGA',\n",
       "       'CGACGGGCCCTCCGA', 'CGACGAATCCTTCAA', 'CGACGAATCCACCGT',\n",
       "       'CAACGTATCCTCCGA', 'CGACGAATTGTCCGA', 'CGACGAATCATCCAA',\n",
       "       'CTACGAGGCCTCCGA', 'CTACGTGTCCTCCGA', 'CGACCAATCATCCGA',\n",
       "       'CGCCGAATCCACCGA', 'CATCGAATCCTCCGA', 'CGAGCAATCCTCCGA',\n",
       "       'CGACGACTCCTCCAA', 'CGACGTATCCTTCGA', 'CGCCGAATCCTTCGA',\n",
       "       'TGACGAATCCTCCTA', 'TGACTAATCCTCCGA', 'TGATGAATCCTCCGA',\n",
       "       'CGACGAAACCTCCGT', 'AGAAGAATCCTCCGA', 'CGCTGAATCCTCCGA',\n",
       "       'CGCCGAATCCTCTGA'], dtype=object)"
      ]
     },
     "execution_count": 64,
     "metadata": {},
     "output_type": "execute_result"
    }
   ],
   "source": [
    "alltargetCodons"
   ]
  },
  {
   "cell_type": "code",
   "execution_count": 76,
   "metadata": {
    "collapsed": false,
    "deletable": true,
    "editable": true
   },
   "outputs": [],
   "source": [
    "#ilestart='AGGAGGATATTGAGG'\n",
    "#argstart='CGACGAATCCTCCGA'\n",
    "\n",
    "ilestart='CGACGAATCCTCCGA'\n",
    "argstart='AGGAGGATATTGAGG'\n",
    "\n",
    "fullDF=df[(df['StartCodon']==ilestart) | (df['StartCodon']==argstart)]\n",
    "\n",
    "alltargetCodons=fullDF.TargetCodon.unique()\n",
    "\n",
    "\n",
    "\n",
    "columns=['NodeSeq','ParentSeq','Count','Motif']\n",
    "\n",
    "\n",
    "motif1=createmotif([['R'],['R'],['S'],['L'],['R']])\n",
    "datalist=[]\n",
    "\n",
    "\n",
    "\n",
    "tempDF=fullDF\n",
    "\n",
    "\n",
    "for TCodon in alltargetCodons:\n",
    "    #print TCodon\n",
    "    TcodonCount=0\n",
    "    if TCodon!=ilestart and TCodon != argstart:\n",
    "        protseq=CommonMotifProb.translateRNA(TCodon)\n",
    "        ismotif=ismotifmatch(protseq,motif1)\n",
    "\n",
    "        TcodonCount+=int(sum(tempDF[tempDF['TargetCodon']==TCodon]['Count']))\n",
    "\n",
    "        if ismotif:\n",
    "            motifValue=1\n",
    "        else:\n",
    "            motifValue=0\n",
    "\n",
    "        if SeqMatch(ilestart,TCodon)==SeqMatch(argstart,TCodon):\n",
    "            parentseq=3\n",
    "        elif SeqMatch(ilestart,TCodon)<SeqMatch(argstart,TCodon):\n",
    "            parentseq=1\n",
    "        elif SeqMatch(ilestart,TCodon)>SeqMatch(argstart,TCodon):\n",
    "            parentseq=2\n",
    "        else:\n",
    "            parentseq=0\n",
    "\n",
    "\n",
    "        datalist.append([protseq,parentseq,TcodonCount,motifValue])\n",
    "\n",
    "            \n",
    "motifmutDF=pd.DataFrame(datalist,columns=columns)"
   ]
  },
  {
   "cell_type": "code",
   "execution_count": 50,
   "metadata": {
    "collapsed": false,
    "deletable": true,
    "editable": true
   },
   "outputs": [],
   "source": [
    "\n",
    "newmotifmutdata=[]\n",
    "alreadychecked=[]\n",
    "for i,row in motifmutDF.iterrows():\n",
    "    if row.NodeSeq not in alreadychecked and row.NodeSeq != 'RRILR':\n",
    "        dftemp=motifmutDF[(motifmutDF['NodeSeq']==row.NodeSeq)]\n",
    "        probs=dftemp['Count']\n",
    "        probssum=probs.sum()\n",
    "        newmotifmutdata.append([row.NodeSeq, row.ParentSeq, probssum,row.Motif])\n",
    "        alreadychecked.append(row.NodeSeq)\n",
    "            \n",
    "newmotifmutDF=pd.DataFrame(newmotifmutdata,columns=columns)"
   ]
  },
  {
   "cell_type": "code",
   "execution_count": 52,
   "metadata": {
    "collapsed": false,
    "deletable": true,
    "editable": true
   },
   "outputs": [],
   "source": [
    "motifs=motifmutDF[motifmutDF['Motif']==1]\n",
    "\n",
    "one= motifs[motifs['ParentSeq']==1]\n",
    "two= motifs[motifs['ParentSeq']==2]\n"
   ]
  },
  {
   "cell_type": "code",
   "execution_count": 53,
   "metadata": {
    "collapsed": false,
    "deletable": true,
    "editable": true
   },
   "outputs": [],
   "source": [
    "motifs=motifmutDF[motifmutDF['Motif']==1]\n",
    "\n",
    "one= motifs[motifs['ParentSeq']==1]\n",
    "two= motifs[motifs['ParentSeq']==2]\n"
   ]
  },
  {
   "cell_type": "code",
   "execution_count": 54,
   "metadata": {
    "collapsed": false,
    "deletable": true,
    "editable": true
   },
   "outputs": [],
   "source": [
    "newmotifmutDF.to_csv('NetworkDataIdenticalAA_DetailsAminoAcidSeq2.csv')"
   ]
  },
  {
   "cell_type": "code",
   "execution_count": null,
   "metadata": {
    "collapsed": true,
    "deletable": true,
    "editable": true
   },
   "outputs": [],
   "source": []
  }
 ],
 "metadata": {
  "kernelspec": {
   "display_name": "Python 3.9.6 64-bit",
   "language": "python",
   "name": "python3"
  },
  "language_info": {
   "codemirror_mode": {
    "name": "ipython",
    "version": 3
   },
   "file_extension": ".py",
   "mimetype": "text/x-python",
   "name": "python",
   "nbconvert_exporter": "python",
   "pygments_lexer": "ipython3",
   "version": "3.9.6"
  },
  "vscode": {
   "interpreter": {
    "hash": "31f2aee4e71d21fbe5cf8b01ff0e069b9275f58929596ceb00d14d90e3e16cd6"
   }
  }
 },
 "nbformat": 4,
 "nbformat_minor": 2
}
